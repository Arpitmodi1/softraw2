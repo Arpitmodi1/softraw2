{
  "nbformat": 4,
  "nbformat_minor": 0,
  "metadata": {
    "colab": {
      "provenance": [],
      "authorship_tag": "ABX9TyM+q6p59JnvvCDhhKVraOHt",
      "include_colab_link": true
    },
    "kernelspec": {
      "name": "python3",
      "display_name": "Python 3"
    },
    "language_info": {
      "name": "python"
    }
  },
  "cells": [
    {
      "cell_type": "markdown",
      "metadata": {
        "id": "view-in-github",
        "colab_type": "text"
      },
      "source": [
        "<a href=\"https://colab.research.google.com/github/Arpitmodi1/softraw2/blob/main/basicqus.ipynb\" target=\"_parent\"><img src=\"https://colab.research.google.com/assets/colab-badge.svg\" alt=\"Open In Colab\"/></a>"
      ]
    },
    {
      "cell_type": "code",
      "execution_count": 1,
      "metadata": {
        "colab": {
          "base_uri": "https://localhost:8080/"
        },
        "id": "d1zTHWRidATT",
        "outputId": "3fae794f-6a3b-428c-8dae-1ca92a681c72"
      },
      "outputs": [
        {
          "output_type": "stream",
          "name": "stdout",
          "text": [
            "{'B': 3, 'r': 13, 'a': 21, 'v': 4, 'e': 16, ' ': 31, 'S': 2, 'i': 8, 'R': 2, 'o': 4, 'b': 4, 'n': 12, 'w': 3, 'y': 7, '.': 6, 'l': 8, 'W': 1, 'h': 6, 'd': 9, 'g': 3, 't': 7, \"'\": 1, 's': 2, 'u': 5, ',': 1, 'f': 1, 'c': 2, 'k': 1}\n"
          ]
        }
      ],
      "source": [
        "quote = \"Brave Sir Robin ran away. Bravely ran away away. When danger reared it's ugly head, he bravely turned his tail and fled. Brave Sir Robin turned about and gallantly he chickened out...\"\n",
        "a = {}\n",
        "\n",
        "for i in quote:\n",
        "    if i in a:\n",
        "        a[i]+=1\n",
        "    else:\n",
        "        a[i]=1\n",
        "print(a)\n"
      ]
    },
    {
      "cell_type": "code",
      "source": [
        "\n",
        "# def mysterious_function(n):\n",
        "#     if n <= 1:\n",
        "#         return 1\n",
        "#     return n * mysterious_function(n - 1)\n",
        "\n",
        "def mysterious_function(n):\n",
        "  if n <=1:\n",
        "    return 1\n",
        "  return n * mysterious_function(n-1)\n",
        "a = int(input(\"Enter a number: \"))\n",
        "for i in range(1,a+1):\n",
        "  print(mysterious_function(i))\n",
        "\n",
        "print(mysterious_function(5))"
      ],
      "metadata": {
        "colab": {
          "base_uri": "https://localhost:8080/"
        },
        "id": "BushCxzOfZQI",
        "outputId": "dfa9622c-632c-4084-bd0d-8b3aa30546e2"
      },
      "execution_count": 16,
      "outputs": [
        {
          "output_type": "stream",
          "name": "stdout",
          "text": [
            "Enter a number: 4\n",
            "1\n",
            "2\n",
            "6\n",
            "24\n",
            "120\n"
          ]
        }
      ]
    }
  ]
}