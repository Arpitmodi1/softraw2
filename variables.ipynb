{
  "nbformat": 4,
  "nbformat_minor": 0,
  "metadata": {
    "colab": {
      "provenance": [],
      "authorship_tag": "ABX9TyOAVItidbw+o3NR1hjjNO0U",
      "include_colab_link": true
    },
    "kernelspec": {
      "name": "python3",
      "display_name": "Python 3"
    },
    "language_info": {
      "name": "python"
    }
  },
  "cells": [
    {
      "cell_type": "markdown",
      "metadata": {
        "id": "view-in-github",
        "colab_type": "text"
      },
      "source": [
        "<a href=\"https://colab.research.google.com/github/Arpitmodi1/softraw2/blob/main/variables.ipynb\" target=\"_parent\"><img src=\"https://colab.research.google.com/assets/colab-badge.svg\" alt=\"Open In Colab\"/></a>"
      ]
    },
    {
      "cell_type": "markdown",
      "source": [
        "#variables"
      ],
      "metadata": {
        "id": "ZfmQ4dxRqj5r"
      }
    },
    {
      "cell_type": "markdown",
      "source": [
        "-pyhton as no command for declaring a variable\n",
        "\n",
        "-A variable is created the moment you first assign a value to it."
      ],
      "metadata": {
        "id": "2ubrKm-QqI0G"
      }
    },
    {
      "cell_type": "code",
      "source": [
        "x = 6\n",
        "y = \"Arpit\"\n",
        "print(x)\n",
        "print(y)"
      ],
      "metadata": {
        "colab": {
          "base_uri": "https://localhost:8080/"
        },
        "id": "8AWgqBIWq4C4",
        "outputId": "9da16dec-78d5-4b49-e047-da1836946ca1"
      },
      "execution_count": 4,
      "outputs": [
        {
          "output_type": "stream",
          "name": "stdout",
          "text": [
            "6\n",
            "Arpit\n"
          ]
        }
      ]
    },
    {
      "cell_type": "markdown",
      "source": [
        "Variables do not need to be declared with any particular type, and can even change type after they have been set."
      ],
      "metadata": {
        "id": "FqUt4BGxrNku"
      }
    },
    {
      "cell_type": "code",
      "source": [
        "x = 6      # x is of type int\n",
        "x = \"Arpit\" # x is now of type str\n",
        "print(x)"
      ],
      "metadata": {
        "colab": {
          "base_uri": "https://localhost:8080/"
        },
        "id": "zeHI6vyKrUco",
        "outputId": "771ec4bf-07fa-46f3-c301-e0c013452eff"
      },
      "execution_count": 5,
      "outputs": [
        {
          "output_type": "stream",
          "name": "stdout",
          "text": [
            "Arpit\n"
          ]
        }
      ]
    },
    {
      "cell_type": "markdown",
      "source": [
        "##Casting and Type"
      ],
      "metadata": {
        "id": "Bd_r2HyFr1Ks"
      }
    },
    {
      "cell_type": "code",
      "source": [
        "x = str(3)    # x will be '3'\n",
        "y = int(3)    # y will be 3\n",
        "z = float(3)  # z will be 3.0\n",
        "\n",
        "print(x)\n",
        "print(y)\n",
        "print(z)\n",
        "\n",
        "print(type(x))\n",
        "print(type(y))\n",
        "print(type(z))"
      ],
      "metadata": {
        "colab": {
          "base_uri": "https://localhost:8080/"
        },
        "id": "8sbqMd3CsGfv",
        "outputId": "e20e4578-36d5-4519-a127-94c15ad34c65"
      },
      "execution_count": 10,
      "outputs": [
        {
          "output_type": "stream",
          "name": "stdout",
          "text": [
            "3\n",
            "3\n",
            "3.0\n",
            "<class 'str'>\n",
            "<class 'int'>\n",
            "<class 'float'>\n"
          ]
        }
      ]
    },
    {
      "cell_type": "markdown",
      "source": [
        "#variables - NAMES\n",
        "#####A variable name must start with a letter or the underscore character\n",
        "#####variable name cannot start with a number\n",
        "#####A variable name can only contain alpha-numeric characters and underscores (A-z, 0-9, and _ )\n",
        "#####Variable names are case-sensitive (age, Age and AGE are three different variables)\n",
        "#####variable name cannot be any of the Python keywords.\n"
      ],
      "metadata": {
        "id": "QXo8dlg5tzzP"
      }
    },
    {
      "cell_type": "code",
      "source": [
        "myvar = \"Arpit\"\n",
        "my_var = \"Apit\"\n",
        "_my_var = \"Arpit\"\n",
        "myVar = \"Arpit\"\n",
        "MYVAR = \"Arpit\"\n",
        "myvar2 = \"Arpit\"\n",
        "print(myvar)\n",
        "print(my_var)\n",
        "print(_my_var)\n",
        "print(myVar)\n",
        "print(MYVAR)\n",
        "print(myvar2)\n"
      ],
      "metadata": {
        "colab": {
          "base_uri": "https://localhost:8080/"
        },
        "id": "rlh2Sp_Xt4wv",
        "outputId": "5d8cb620-89c4-43ec-cb33-5a85907f32d8"
      },
      "execution_count": 12,
      "outputs": [
        {
          "output_type": "stream",
          "name": "stdout",
          "text": [
            "Arpit\n",
            "Apit\n",
            "Arpit\n",
            "Arpit\n",
            "Arpit\n",
            "Arpit\n"
          ]
        }
      ]
    },
    {
      "cell_type": "code",
      "source": [
        "#camel case\n",
        "myVariableName = \"Arpit\"\n",
        "#Pascal case\n",
        "MyVariableName = \"Arpit\"\n",
        "#snake case\n",
        "my_variable_name = \"Arpit\"\n"
      ],
      "metadata": {
        "id": "F_R68hf1uFKD"
      },
      "execution_count": 14,
      "outputs": []
    },
    {
      "cell_type": "markdown",
      "source": [
        "# Many Values to Multiple Variables\n"
      ],
      "metadata": {
        "id": "WwDneIzJwOft"
      }
    },
    {
      "cell_type": "code",
      "source": [
        "#Python allows you to assign values to multiple variables in one line:\n",
        "x, y, z = \"Orange\", \"Banana\", \"Cherry\"\n",
        "print(x)\n",
        "print(y)\n",
        "print(z)"
      ],
      "metadata": {
        "colab": {
          "base_uri": "https://localhost:8080/"
        },
        "id": "rwXQiPAYwYZp",
        "outputId": "bfebd47f-dcca-49c8-b977-94e9a7b18e66"
      },
      "execution_count": 15,
      "outputs": [
        {
          "output_type": "stream",
          "name": "stdout",
          "text": [
            "Orange\n",
            "Banana\n",
            "Cherry\n"
          ]
        }
      ]
    },
    {
      "cell_type": "code",
      "source": [
        "#And you can assign the same value to multiple variables in one line:\n",
        "x = y = z = \"Orange\"\n",
        "print(x)\n",
        "print(y)\n",
        "print(z)"
      ],
      "metadata": {
        "colab": {
          "base_uri": "https://localhost:8080/"
        },
        "id": "nbmB_Gtnwwg8",
        "outputId": "d28bd5b3-c53c-44a5-b0ad-35e49e9e6546"
      },
      "execution_count": 17,
      "outputs": [
        {
          "output_type": "stream",
          "name": "stdout",
          "text": [
            "Orange\n",
            "Orange\n",
            "Orange\n"
          ]
        }
      ]
    },
    {
      "cell_type": "code",
      "source": [
        "#If you have a collection of values in a list, tuple etc. Python allows you to extract the values into variables. This is called unpacking.\n",
        "fruits = [\"apple\", \"banana\", \"cherry\"]\n",
        "x, y, z = fruits\n",
        "print(x)\n",
        "print(y)\n",
        "print(z)"
      ],
      "metadata": {
        "colab": {
          "base_uri": "https://localhost:8080/"
        },
        "id": "hoPX-pydxD2p",
        "outputId": "b07b559a-b437-44be-fd9c-b9be6027308d"
      },
      "execution_count": 16,
      "outputs": [
        {
          "output_type": "stream",
          "name": "stdout",
          "text": [
            "apple\n",
            "banana\n",
            "cherry\n"
          ]
        }
      ]
    },
    {
      "cell_type": "markdown",
      "source": [
        "# output variables"
      ],
      "metadata": {
        "id": "C8zl0nrh1M64"
      }
    },
    {
      "cell_type": "code",
      "source": [
        "x = \"Python\"\n",
        "y = \"is\"\n",
        "z = \"awesome\"\n",
        "print(x, y, z)\n",
        "\n",
        "\n",
        "x = \"Python \"\n",
        "y = \"is \"\n",
        "z = \"awesome\"\n",
        "print(x + y + z)\n",
        "\n",
        "\n",
        "\n",
        "x = 6\n",
        "y = \"Arpit\"\n",
        "print(x, y)"
      ],
      "metadata": {
        "colab": {
          "base_uri": "https://localhost:8080/"
        },
        "id": "8BX8zPPSxcvy",
        "outputId": "9af49432-db93-4113-f39f-47c3154991ca"
      },
      "execution_count": 22,
      "outputs": [
        {
          "output_type": "stream",
          "name": "stdout",
          "text": [
            "Python is awesome\n",
            "Python is awesome\n",
            "6 Arpit\n"
          ]
        }
      ]
    },
    {
      "cell_type": "markdown",
      "source": [
        "#Global Variables\n",
        "#####Variables that are created outside of a function  are known as global variables.\n",
        "\n",
        "#####Global variables can be used by everyone, both inside of functions and outside."
      ],
      "metadata": {
        "id": "DjL5cat92HUY"
      }
    },
    {
      "cell_type": "code",
      "source": [
        "#Create a variable outside of a function, and use it inside the function\n",
        "x = \"awesome\"\n",
        "\n",
        "def myfunc():\n",
        "  print(\"Python is \" + x)\n",
        "\n",
        "myfunc()\n",
        "\n",
        "\n",
        "\n",
        "#Create a variable inside a function, with the same name as the global variable\n",
        "x = \"awesome\"\n",
        "\n",
        "def myfunc():\n",
        "  x = \"fantastic\"\n",
        "  print(\"Python is \" + x)\n",
        "\n",
        "myfunc()\n",
        "\n",
        "print(\"Python is \" + x)"
      ],
      "metadata": {
        "colab": {
          "base_uri": "https://localhost:8080/"
        },
        "id": "hwN21EiX2RtV",
        "outputId": "8e5f309f-dcdb-430c-c84e-bd8f4030ad08"
      },
      "execution_count": 24,
      "outputs": [
        {
          "output_type": "stream",
          "name": "stdout",
          "text": [
            "Python is awesome\n",
            "Python is fantastic\n",
            "Python is awesome\n"
          ]
        }
      ]
    },
    {
      "cell_type": "markdown",
      "source": [
        "global keyword"
      ],
      "metadata": {
        "id": "6yoIf1wp4rTA"
      }
    },
    {
      "cell_type": "code",
      "source": [
        "#If you use the global keyword, the variable belongs to the global scope:\n",
        "def myfunc():\n",
        "  global x\n",
        "  x = \"fantastic\"\n",
        "\n",
        "myfunc()\n",
        "\n",
        "print(\"Python is \" + x)"
      ],
      "metadata": {
        "colab": {
          "base_uri": "https://localhost:8080/"
        },
        "id": "Y8PaxPtX4t_q",
        "outputId": "e2bfb8ca-05d9-432e-c382-7b6f681f824f"
      },
      "execution_count": 25,
      "outputs": [
        {
          "output_type": "stream",
          "name": "stdout",
          "text": [
            "Python is fantastic\n"
          ]
        }
      ]
    },
    {
      "cell_type": "code",
      "source": [
        "#To change the value of a global variable inside a function, refer to the variable by using the global keyword:\n",
        "\n",
        "x = \"awesome\"\n",
        "\n",
        "def myfunc():\n",
        "  global x\n",
        "  x = \"fantastic\"\n",
        "\n",
        "myfunc()\n",
        "\n",
        "print(\"Python is \" + x)"
      ],
      "metadata": {
        "colab": {
          "base_uri": "https://localhost:8080/"
        },
        "id": "kwKFCQ4f4731",
        "outputId": "2a71f6e3-8908-4e27-ca06-3ae0416878ec"
      },
      "execution_count": 26,
      "outputs": [
        {
          "output_type": "stream",
          "name": "stdout",
          "text": [
            "Python is fantastic\n"
          ]
        }
      ]
    }
  ]
}