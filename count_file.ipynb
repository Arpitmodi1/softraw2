{
  "nbformat": 4,
  "nbformat_minor": 0,
  "metadata": {
    "colab": {
      "provenance": [],
      "authorship_tag": "ABX9TyPSi4DiRqM5jeqHpgzscS7Y",
      "include_colab_link": true
    },
    "kernelspec": {
      "name": "python3",
      "display_name": "Python 3"
    },
    "language_info": {
      "name": "python"
    }
  },
  "cells": [
    {
      "cell_type": "markdown",
      "metadata": {
        "id": "view-in-github",
        "colab_type": "text"
      },
      "source": [
        "<a href=\"https://colab.research.google.com/github/Arpitmodi1/softraw2/blob/main/count_file.ipynb\" target=\"_parent\"><img src=\"https://colab.research.google.com/assets/colab-badge.svg\" alt=\"Open In Colab\"/></a>"
      ]
    },
    {
      "cell_type": "code",
      "source": [
        "import os\n",
        "\n",
        "def count_files_in_directory(directory_path):\n",
        "    try:\n",
        "        # List all entries in the given directory\n",
        "        entries = os.listdir(directory_path)\n",
        "\n",
        "        # Count the number of files in the directory\n",
        "        file_count = sum(1 for entry in entries if os.path.isfile(os.path.join(directory_path, entry)))\n",
        "\n",
        "        return file_count\n",
        "    except Exception as e:\n",
        "        print(f\"An error occurred: {e}\")\n",
        "        return None\n",
        "\n",
        "# Example usage\n",
        "directory_path = 'C:/Users/arpit/Downloads'\n",
        "file_count = count_files_in_directory(directory_path)\n",
        "print(f\"The number of files in the directory '{directory_path}' is: {file_count}\")"
      ],
      "metadata": {
        "colab": {
          "base_uri": "https://localhost:8080/"
        },
        "id": "wdmk9dOwrj50",
        "outputId": "91bd23d4-b818-4357-9b98-46388b9d5c94"
      },
      "execution_count": 17,
      "outputs": [
        {
          "output_type": "stream",
          "name": "stdout",
          "text": [
            "An error occurred: [Errno 2] No such file or directory: 'C:/Users/arpit/Downloads'\n",
            "The number of files in the directory 'C:/Users/arpit/Downloads' is: None\n"
          ]
        }
      ]
    }
  ]
}