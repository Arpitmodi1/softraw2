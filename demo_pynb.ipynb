{
  "nbformat": 4,
  "nbformat_minor": 0,
  "metadata": {
    "colab": {
      "provenance": []
    },
    "kernelspec": {
      "name": "python3",
      "display_name": "Python 3"
    },
    "language_info": {
      "name": "python"
    }
  },
  "cells": [
    {
      "cell_type": "markdown",
      "source": [
        "# file handling"
      ],
      "metadata": {
        "id": "IXlfBzlO26nm"
      }
    },
    {
      "cell_type": "code",
      "source": [
        "f = open(\"demofile.py\", \"r\")\n",
        "print(f.read())"
      ],
      "metadata": {
        "colab": {
          "base_uri": "https://localhost:8080/"
        },
        "id": "zSC5_52M1DgX",
        "outputId": "e25018cf-1b2a-4f8f-b525-f364325b53a0"
      },
      "execution_count": 5,
      "outputs": [
        {
          "output_type": "stream",
          "name": "stdout",
          "text": [
            "Hello welcome to demofile.txt\n",
            "This file is for testing purpose\n",
            "Good luck \n"
          ]
        }
      ]
    },
    {
      "cell_type": "markdown",
      "source": [
        "Return the 5 first characters of the file:"
      ],
      "metadata": {
        "id": "_CKG15NI2ui8"
      }
    },
    {
      "cell_type": "code",
      "source": [
        "f = open(\"demofile.py\", \"r\")\n",
        "print(f.read(5))"
      ],
      "metadata": {
        "colab": {
          "base_uri": "https://localhost:8080/"
        },
        "id": "M-0ejsnr2Ari",
        "outputId": "a361501b-3280-4be0-acd0-f924b34d9f26"
      },
      "execution_count": 10,
      "outputs": [
        {
          "output_type": "stream",
          "name": "stdout",
          "text": [
            "Hello\n"
          ]
        }
      ]
    },
    {
      "cell_type": "markdown",
      "source": [
        "Read one line of the file:"
      ],
      "metadata": {
        "id": "VrmDnao12n7z"
      }
    },
    {
      "cell_type": "code",
      "source": [
        "f = open(\"demofile.py\", \"r\")\n",
        "print(f.readline())"
      ],
      "metadata": {
        "colab": {
          "base_uri": "https://localhost:8080/"
        },
        "id": "EP6f0Yy52VyQ",
        "outputId": "a074bfc2-11ec-44e0-c44a-ece9622be21b"
      },
      "execution_count": 12,
      "outputs": [
        {
          "output_type": "stream",
          "name": "stdout",
          "text": [
            "Hello welcome to demofile.txt\n",
            "\n"
          ]
        }
      ]
    },
    {
      "cell_type": "markdown",
      "source": [
        "Read two lines of the file:"
      ],
      "metadata": {
        "id": "GI8SkVBu3W8e"
      }
    },
    {
      "cell_type": "code",
      "source": [
        "f = open(\"demofile.py\", \"r\")\n",
        "print(f.readline())\n",
        "print(f.readline())"
      ],
      "metadata": {
        "colab": {
          "base_uri": "https://localhost:8080/"
        },
        "id": "xjZXi3cG3Nag",
        "outputId": "4e7e8b56-ee2c-444b-a9bd-d9ab2417f496"
      },
      "execution_count": 14,
      "outputs": [
        {
          "output_type": "stream",
          "name": "stdout",
          "text": [
            "Hello welcome to demofile.txt\n",
            "\n",
            "This file is for testing purpose\n",
            "\n"
          ]
        }
      ]
    },
    {
      "cell_type": "markdown",
      "source": [
        "Loop through the file line by line:"
      ],
      "metadata": {
        "id": "6JmUGm8H3dZ6"
      }
    },
    {
      "cell_type": "code",
      "source": [
        "f = open(\"demofile.py\", \"r\")\n",
        "for x in f:\n",
        "  print(x)"
      ],
      "metadata": {
        "colab": {
          "base_uri": "https://localhost:8080/"
        },
        "id": "vj-VFrnO3prZ",
        "outputId": "460c1cbd-70ac-45b6-e406-ebdddfd0edc3"
      },
      "execution_count": 16,
      "outputs": [
        {
          "output_type": "stream",
          "name": "stdout",
          "text": [
            "Hello welcome to demofile.txt\n",
            "\n",
            "This file is for testing purpose\n",
            "\n",
            "Good luck \n"
          ]
        }
      ]
    },
    {
      "cell_type": "markdown",
      "source": [
        "Close the file when you are finish with it:"
      ],
      "metadata": {
        "id": "m9pmBY333yEt"
      }
    },
    {
      "cell_type": "code",
      "source": [
        "f = open(\"demofile.py\", \"r\")\n",
        "print(f.readline())\n",
        "f.close()"
      ],
      "metadata": {
        "colab": {
          "base_uri": "https://localhost:8080/"
        },
        "id": "r-5GGz7o351K",
        "outputId": "a5a68a87-e0bb-43ab-80ac-45c09134b33e"
      },
      "execution_count": 17,
      "outputs": [
        {
          "output_type": "stream",
          "name": "stdout",
          "text": [
            "Hello welcome to demofile.txt\n",
            "\n"
          ]
        }
      ]
    },
    {
      "cell_type": "markdown",
      "source": [
        "Open the file \"demofile2.txt\" and append content to the file:"
      ],
      "metadata": {
        "id": "a3RrzPqd4Ajv"
      }
    },
    {
      "cell_type": "code",
      "source": [
        "f = open(\"demofile2.py\", \"a\")\n",
        "f.write(\"Now the file has more content!\")\n",
        "f.close()\n",
        "\n",
        "#open and read the file after the appending:\n",
        "f = open(\"demofile2.py\", \"r\")\n",
        "print(f.read())"
      ],
      "metadata": {
        "colab": {
          "base_uri": "https://localhost:8080/"
        },
        "id": "-f0SjftT4L5p",
        "outputId": "76f0c0c9-7178-4f76-959f-8a99257624a5"
      },
      "execution_count": 18,
      "outputs": [
        {
          "output_type": "stream",
          "name": "stdout",
          "text": [
            "Now the file has more content!\n"
          ]
        }
      ]
    },
    {
      "cell_type": "markdown",
      "source": [
        "Open the file \"demofile3.txt\" and overwrite the content:"
      ],
      "metadata": {
        "id": "177s-D_H4oeZ"
      }
    },
    {
      "cell_type": "code",
      "source": [
        "f = open(\"demofile3.py\", \"w\")\n",
        "f.write(\"Woops! I have deleted the content!\")\n",
        "f.close()\n",
        "\n",
        "#open and read the file after the overwriting:\n",
        "f = open(\"demofile3.py\", \"r\")\n",
        "print(f.read())"
      ],
      "metadata": {
        "colab": {
          "base_uri": "https://localhost:8080/"
        },
        "id": "TPZ_U76D4p96",
        "outputId": "adb1b87e-5808-4b2d-9ac7-4b043144979d"
      },
      "execution_count": 19,
      "outputs": [
        {
          "output_type": "stream",
          "name": "stdout",
          "text": [
            "Woops! I have deleted the content!\n"
          ]
        }
      ]
    },
    {
      "cell_type": "markdown",
      "source": [
        "Create a file called \"myfile.txt\":"
      ],
      "metadata": {
        "id": "NpV5Jd1N5CU2"
      }
    },
    {
      "cell_type": "code",
      "source": [
        "f = open(\"myfile.py\", \"x\")"
      ],
      "metadata": {
        "id": "gdQBMDaW5DxU"
      },
      "execution_count": 20,
      "outputs": []
    },
    {
      "cell_type": "markdown",
      "source": [
        "Create a new file if it does not exist:"
      ],
      "metadata": {
        "id": "myQwuUUG5Kqi"
      }
    },
    {
      "cell_type": "code",
      "source": [
        "f = open(\"myfile.py\", \"w\")"
      ],
      "metadata": {
        "id": "Ci8sUwDm5QYX"
      },
      "execution_count": 21,
      "outputs": []
    },
    {
      "cell_type": "markdown",
      "source": [
        "Remove the file \"demofile.txt\":"
      ],
      "metadata": {
        "id": "XxzwMt025fXo"
      }
    },
    {
      "cell_type": "code",
      "source": [
        "import os\n",
        "os.remove(\"demofile.py\")"
      ],
      "metadata": {
        "id": "NVHCgI145Wcq"
      },
      "execution_count": 22,
      "outputs": []
    },
    {
      "cell_type": "markdown",
      "source": [
        "To avoid getting an error, you might want to check if the file exists before you try to delete it"
      ],
      "metadata": {
        "id": "bzIrsirx50He"
      }
    },
    {
      "cell_type": "markdown",
      "source": [
        "Check if file exists, then delete it:"
      ],
      "metadata": {
        "id": "edrfGyGe56jF"
      }
    },
    {
      "cell_type": "code",
      "source": [
        "import os\n",
        "if os.path.exists(\"demofile.py\"):\n",
        "  os.remove(\"demofile.py\")\n",
        "else:\n",
        "  print(\"The file does not exist\")"
      ],
      "metadata": {
        "colab": {
          "base_uri": "https://localhost:8080/"
        },
        "id": "hDDSzU1i5mPb",
        "outputId": "f4170bf6-dfe4-40d3-ebeb-11540664b3eb"
      },
      "execution_count": 23,
      "outputs": [
        {
          "output_type": "stream",
          "name": "stdout",
          "text": [
            "The file does not exist\n"
          ]
        }
      ]
    },
    {
      "cell_type": "markdown",
      "source": [
        "To delete an entire folder, use the os.rmdir() method:"
      ],
      "metadata": {
        "id": "UH3KTRkL6WIw"
      }
    },
    {
      "cell_type": "markdown",
      "source": [
        "Remove the folder \"myfolder\":"
      ],
      "metadata": {
        "id": "LGiJKjKD6av5"
      }
    },
    {
      "cell_type": "code",
      "source": [
        "import os\n",
        "\n",
        "if os.path.exists(\"myfolder\"):\n",
        "    os.rmdir(\"myfolder\")\n",
        "else:\n",
        "    print(\"The directory does not exist\") # Informs the user that the directory is not present"
      ],
      "metadata": {
        "colab": {
          "base_uri": "https://localhost:8080/"
        },
        "id": "XxTlL_w061n2",
        "outputId": "1daa397e-96bd-498d-feed-8b493b4f48fd"
      },
      "execution_count": 26,
      "outputs": [
        {
          "output_type": "stream",
          "name": "stdout",
          "text": [
            "The directory does not exist\n"
          ]
        }
      ]
    }
  ]
}