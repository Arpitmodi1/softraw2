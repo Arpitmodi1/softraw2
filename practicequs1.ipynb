{
  "nbformat": 4,
  "nbformat_minor": 0,
  "metadata": {
    "colab": {
      "provenance": [],
      "authorship_tag": "ABX9TyMUc2PryR/xnUYpW3Ib/trH",
      "include_colab_link": true
    },
    "kernelspec": {
      "name": "python3",
      "display_name": "Python 3"
    },
    "language_info": {
      "name": "python"
    }
  },
  "cells": [
    {
      "cell_type": "markdown",
      "metadata": {
        "id": "view-in-github",
        "colab_type": "text"
      },
      "source": [
        "<a href=\"https://colab.research.google.com/github/Arpitmodi1/softraw2/blob/main/practicequs1.ipynb\" target=\"_parent\"><img src=\"https://colab.research.google.com/assets/colab-badge.svg\" alt=\"Open In Colab\"/></a>"
      ]
    },
    {
      "cell_type": "markdown",
      "source": [
        "Print a string in a specified format\n",
        "\n",
        " \"Twinkle, twinkle, little star, How I wonder what you are! Up above the world so high, Like a diamond in the sky. Twinkle, twinkle, little star, How I wonder what you are!\""
      ],
      "metadata": {
        "id": "Wm5wpl0ZSXc9"
      }
    },
    {
      "cell_type": "code",
      "execution_count": 2,
      "metadata": {
        "colab": {
          "base_uri": "https://localhost:8080/"
        },
        "id": "20d_fE1iSWZY",
        "outputId": "dd79aafb-54db-4a5f-c328-90022329f2eb"
      },
      "outputs": [
        {
          "output_type": "stream",
          "name": "stdout",
          "text": [
            "Twinkle, twinkle, little star,\n",
            " \tHow I wonder what you are! \n",
            " \t\tUp above the world so high,   \t\t\n",
            " \t\tLike a diamond in the sky. \n",
            " Twinkle, twinkle, little star, \n",
            " \tHow I wonder what you are\n"
          ]
        }
      ],
      "source": [
        "print('''Twinkle, twinkle, little star,\n",
        " \tHow I wonder what you are!\n",
        " \t\tUp above the world so high,\n",
        " \t\tLike a diamond in the sky.\n",
        " Twinkle, twinkle, little star,\n",
        " \tHow I wonder what you are''')\n"
      ]
    },
    {
      "cell_type": "code",
      "source": [],
      "metadata": {
        "id": "jmG6X-OzTKJk"
      },
      "execution_count": null,
      "outputs": []
    }
  ]
}