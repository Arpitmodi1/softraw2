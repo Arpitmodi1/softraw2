{
  "nbformat": 4,
  "nbformat_minor": 0,
  "metadata": {
    "colab": {
      "provenance": [],
      "authorship_tag": "ABX9TyOt5jCEDZ/U0SfcwLaj/itr",
      "include_colab_link": true
    },
    "kernelspec": {
      "name": "python3",
      "display_name": "Python 3"
    },
    "language_info": {
      "name": "python"
    }
  },
  "cells": [
    {
      "cell_type": "markdown",
      "metadata": {
        "id": "view-in-github",
        "colab_type": "text"
      },
      "source": [
        "<a href=\"https://colab.research.google.com/github/Arpitmodi1/softraw2/blob/main/practicequs.ipynb\" target=\"_parent\"><img src=\"https://colab.research.google.com/assets/colab-badge.svg\" alt=\"Open In Colab\"/></a>"
      ]
    },
    {
      "cell_type": "code",
      "source": [
        "#2 check the python version using the code\n",
        "import sys\n",
        "print(\"python version\")\n",
        "print(sys.version)"
      ],
      "metadata": {
        "colab": {
          "base_uri": "https://localhost:8080/"
        },
        "id": "ksJmYzZvwmlL",
        "outputId": "e0f5f00a-e447-4694-eac3-fb229e64536e"
      },
      "execution_count": 52,
      "outputs": [
        {
          "output_type": "stream",
          "name": "stdout",
          "text": [
            "python version\n",
            "3.10.12 (main, Nov 20 2023, 15:14:05) [GCC 11.4.0]\n"
          ]
        }
      ]
    },
    {
      "cell_type": "code",
      "source": [
        "#3 Display the current date and time\n",
        "import datetime\n",
        "x = datetime.datetime.now()\n",
        "print(x)\n",
        "\n"
      ],
      "metadata": {
        "colab": {
          "base_uri": "https://localhost:8080/"
        },
        "id": "0jLIbITzqjUA",
        "outputId": "90b804b1-ac2f-41f8-81e1-e662d794fb72"
      },
      "execution_count": 53,
      "outputs": [
        {
          "output_type": "stream",
          "name": "stdout",
          "text": [
            "2024-06-18 05:24:32.701046\n"
          ]
        }
      ]
    },
    {
      "cell_type": "code",
      "source": [
        "#4 python program to find the area of the circle\n",
        "x=int(input('enter the radious of the circle'))\n",
        "pi=3.14\n",
        "print('the area of circle is',pi*x*x)"
      ],
      "metadata": {
        "colab": {
          "base_uri": "https://localhost:8080/"
        },
        "id": "Y-smxh-7rU-B",
        "outputId": "bba13f3b-dfbc-4aa6-aab5-5c4c51e56d95"
      },
      "execution_count": 54,
      "outputs": [
        {
          "output_type": "stream",
          "name": "stdout",
          "text": [
            "enter the radious of the circle2\n",
            "the area of circle is 12.56\n"
          ]
        }
      ]
    },
    {
      "cell_type": "code",
      "source": [
        "#5  write a python program to print the first and lastname and print them in reverse order\n",
        "fname=input('enter the first name')\n",
        "lname=input('enter the lname')\n",
        "print(lname + \" \" + fname)"
      ],
      "metadata": {
        "colab": {
          "base_uri": "https://localhost:8080/"
        },
        "id": "j6Dxt_8Jr3HH",
        "outputId": "f91260f9-9b66-4ada-f3c1-494ca6119069"
      },
      "execution_count": 55,
      "outputs": [
        {
          "output_type": "stream",
          "name": "stdout",
          "text": [
            "enter the first nameArpit\n",
            "enter the lnameModi\n",
            "Modi Arpit\n"
          ]
        }
      ]
    },
    {
      "cell_type": "code",
      "source": [
        "#7 write a program to print filename from the user and print the extension of the file\n",
        "x=input('enter the filename')\n",
        "a=x.split(\".\")\n",
        "print(repr(a[-1]))"
      ],
      "metadata": {
        "colab": {
          "base_uri": "https://localhost:8080/"
        },
        "id": "ZgUghKGvuhey",
        "outputId": "4fcbd8b1-df70-43e4-df5e-e10468a552b9"
      },
      "execution_count": 56,
      "outputs": [
        {
          "output_type": "stream",
          "name": "stdout",
          "text": [
            "enter the filenamearpit.java\n",
            "'java'\n"
          ]
        }
      ]
    },
    {
      "cell_type": "code",
      "source": [
        "#8  write a python program  to display the first and last colors from the following list\n",
        "a=['Red','green','white','black']\n",
        "print(a[0::3])\n"
      ],
      "metadata": {
        "colab": {
          "base_uri": "https://localhost:8080/"
        },
        "id": "YMsUBdo3u4KO",
        "outputId": "fabca2d6-e05d-450b-c9f1-416daa89823a"
      },
      "execution_count": 57,
      "outputs": [
        {
          "output_type": "stream",
          "name": "stdout",
          "text": [
            "['Red', 'black']\n"
          ]
        }
      ]
    },
    {
      "cell_type": "code",
      "source": [
        "#12 import the calandar module\n",
        "\n",
        "import calendar\n",
        "y=int(input('enter the year'))\n",
        "m=int(input('enter the month'))\n",
        "print(calendar.month(y,m))"
      ],
      "metadata": {
        "colab": {
          "base_uri": "https://localhost:8080/"
        },
        "id": "L6iz-HT5vJhL",
        "outputId": "0ab98de7-595f-432c-e5cf-6ede747f255e"
      },
      "execution_count": 58,
      "outputs": [
        {
          "output_type": "stream",
          "name": "stdout",
          "text": [
            "enter the year2001\n",
            "enter the month7\n",
            "     July 2001\n",
            "Mo Tu We Th Fr Sa Su\n",
            "                   1\n",
            " 2  3  4  5  6  7  8\n",
            " 9 10 11 12 13 14 15\n",
            "16 17 18 19 20 21 22\n",
            "23 24 25 26 27 28 29\n",
            "30 31\n",
            "\n"
          ]
        }
      ]
    },
    {
      "cell_type": "code",
      "source": [
        "#14 write a python program to difference the number of days between two dates\n",
        "from datetime import date\n",
        "x=date(2024,1,1)\n",
        "y=date(2023,12,31)\n",
        "difference=x-y\n",
        "print(difference.days)"
      ],
      "metadata": {
        "colab": {
          "base_uri": "https://localhost:8080/"
        },
        "id": "O2CZd6Wkx8Qu",
        "outputId": "98e348ef-5fa0-4b66-b7f1-1a619c44ae82"
      },
      "execution_count": 49,
      "outputs": [
        {
          "output_type": "stream",
          "name": "stdout",
          "text": [
            "1\n"
          ]
        }
      ]
    },
    {
      "cell_type": "code",
      "source": [
        "#15 write a  python program to the volume of the sphere\n",
        "x=int(input('enter the radious of the sphere'))\n",
        "pi=3.14\n",
        "a=(4/3)* pi* (x*x*x)\n",
        "print(a)\n"
      ],
      "metadata": {
        "colab": {
          "base_uri": "https://localhost:8080/"
        },
        "id": "WBz33KXky7qU",
        "outputId": "a066f748-675e-4cde-ede8-9226b88c0f2f"
      },
      "execution_count": 51,
      "outputs": [
        {
          "output_type": "stream",
          "name": "stdout",
          "text": [
            "enter the radious of the sphere2\n",
            "33.49333333333333\n"
          ]
        }
      ]
    }
  ]
}